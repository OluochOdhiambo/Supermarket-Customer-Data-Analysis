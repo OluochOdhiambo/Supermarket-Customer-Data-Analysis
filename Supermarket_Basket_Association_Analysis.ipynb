{
  "nbformat": 4,
  "nbformat_minor": 0,
  "metadata": {
    "colab": {
      "name": "Supermarket Basket Association Analysis",
      "provenance": [],
      "collapsed_sections": []
    },
    "kernelspec": {
      "name": "ir",
      "display_name": "R"
    }
  },
  "cells": [
    {
      "cell_type": "markdown",
      "metadata": {
        "id": "u4cxrP5_AL0o",
        "colab_type": "text"
      },
      "source": [
        "# Association Analysis"
      ]
    },
    {
      "cell_type": "markdown",
      "metadata": {
        "id": "W2MrwbVX0Z5k",
        "colab_type": "text"
      },
      "source": [
        "### a. Specifying the data analysis question\n",
        "\n",
        "Analyse Customer transaction Data from a local supermarket and build a recommender system."
      ]
    },
    {
      "cell_type": "markdown",
      "metadata": {
        "id": "u2BRhQ4q0j9U",
        "colab_type": "text"
      },
      "source": [
        "### b. Defining the metrics of success\n",
        "* Actionable insight on the customer data.\n",
        "* Build a model that predicts the next customer purchase with more than 80% confidence.\n",
        "\n",
        "\n",
        "\n"
      ]
    },
    {
      "cell_type": "markdown",
      "metadata": {
        "id": "MtBO8xgN1DWs",
        "colab_type": "text"
      },
      "source": [
        "### c. Understanding the context\n",
        "\n",
        "Association analysis (also regarded as association rules or market basket analysis) is an unsupervised method that is used to discover patterns that occur within a given dataset by identifying relationships between observations and variables from a dataset. These relationships are defined by a set of rules that indicate groups of items that tend to be associated with others. In a business context, this technique is adopted in understanding the relationships between different variables. The information obtained is then used to make recommendations for the next customer given they have some similar items in the list. This approach is especially useful in boosting sales and is popularly used in e-commerce businesses. "
      ]
    },
    {
      "cell_type": "markdown",
      "metadata": {
        "id": "Z5gllede1N1A",
        "colab_type": "text"
      },
      "source": [
        "### d. Recording the experimental design\n",
        "\n",
        "*   Load and preview the data set\n",
        "*   Clean the data set \n",
        "*   Explore the data set and its variables\n",
        "*   Implement association analysis\n",
        "\n",
        "\n",
        "\n",
        "\n",
        "\n",
        "\n",
        "\n",
        "\n",
        "\n",
        "\n",
        "\n"
      ]
    },
    {
      "cell_type": "code",
      "metadata": {
        "id": "VBA6kLOXki2m",
        "colab_type": "code",
        "colab": {
          "base_uri": "https://localhost:8080/",
          "height": 68
        },
        "outputId": "ace0716d-e29c-4142-f4ef-238b9608fb97"
      },
      "source": [
        "# install the required arules library \n",
        "install.packages(\"arules\")\n",
        "library(arules)"
      ],
      "execution_count": 21,
      "outputs": [
        {
          "output_type": "stream",
          "text": [
            "Installing package into ‘/usr/local/lib/R/site-library’\n",
            "(as ‘lib’ is unspecified)\n",
            "\n"
          ],
          "name": "stderr"
        }
      ]
    },
    {
      "cell_type": "code",
      "metadata": {
        "id": "jY8JIC6_lGw-",
        "colab_type": "code",
        "colab": {
          "base_uri": "https://localhost:8080/",
          "height": 102
        },
        "outputId": "b1eb2929-6c3a-4169-e547-215c623a51f1"
      },
      "source": [
        "# load the data set\n",
        "path <-\"http://bit.ly/SupermarketDatasetII\"\n",
        "\n",
        "customer_transactions <-read.transactions(path, sep = \",\")\n",
        "customer_transactions"
      ],
      "execution_count": 22,
      "outputs": [
        {
          "output_type": "stream",
          "text": [
            "Warning message in asMethod(object):\n",
            "“removing duplicated items in transactions”\n"
          ],
          "name": "stderr"
        },
        {
          "output_type": "display_data",
          "data": {
            "text/plain": [
              "transactions in sparse format with\n",
              " 7501 transactions (rows) and\n",
              " 119 items (columns)"
            ]
          },
          "metadata": {
            "tags": []
          }
        }
      ]
    },
    {
      "cell_type": "code",
      "metadata": {
        "id": "7lF8bqHNlmjG",
        "colab_type": "code",
        "colab": {
          "base_uri": "https://localhost:8080/",
          "height": 34
        },
        "outputId": "a4b440c8-e03e-4edd-f68e-b85edce88fe6"
      },
      "source": [
        "# check data class\n",
        "class(customer_transactions)"
      ],
      "execution_count": 23,
      "outputs": [
        {
          "output_type": "display_data",
          "data": {
            "text/plain": [
              "[1] \"transactions\"\n",
              "attr(,\"package\")\n",
              "[1] \"arules\""
            ],
            "text/latex": "'transactions'",
            "text/markdown": "'transactions'",
            "text/html": [
              "'transactions'"
            ]
          },
          "metadata": {
            "tags": []
          }
        }
      ]
    },
    {
      "cell_type": "code",
      "metadata": {
        "id": "RR1Z_XFDlsPF",
        "colab_type": "code",
        "colab": {
          "base_uri": "https://localhost:8080/",
          "height": 561
        },
        "outputId": "7d55c76c-ff5e-4161-a058-6f0630b6b704"
      },
      "source": [
        "# preview first 5 customer transactions\n",
        "inspect(customer_transactions[1:5])"
      ],
      "execution_count": 24,
      "outputs": [
        {
          "output_type": "stream",
          "text": [
            "    items              \n",
            "[1] {almonds,          \n",
            "     antioxydant juice,\n",
            "     avocado,          \n",
            "     cottage cheese,   \n",
            "     energy drink,     \n",
            "     frozen smoothie,  \n",
            "     green grapes,     \n",
            "     green tea,        \n",
            "     honey,            \n",
            "     low fat yogurt,   \n",
            "     mineral water,    \n",
            "     olive oil,        \n",
            "     salad,            \n",
            "     salmon,           \n",
            "     shrimp,           \n",
            "     spinach,          \n",
            "     tomato juice,     \n",
            "     vegetables mix,   \n",
            "     whole weat flour, \n",
            "     yams}             \n",
            "[2] {burgers,          \n",
            "     eggs,             \n",
            "     meatballs}        \n",
            "[3] {chutney}          \n",
            "[4] {avocado,          \n",
            "     turkey}           \n",
            "[5] {energy bar,       \n",
            "     green tea,        \n",
            "     milk,             \n",
            "     mineral water,    \n",
            "     whole wheat rice} \n"
          ],
          "name": "stdout"
        }
      ]
    },
    {
      "cell_type": "code",
      "metadata": {
        "id": "nKm6i19cntCY",
        "colab_type": "code",
        "colab": {
          "base_uri": "https://localhost:8080/",
          "height": 498
        },
        "outputId": "0ba92e67-096f-4443-f31b-8f881ebc3d93"
      },
      "source": [
        "# explore items in the dataset\n",
        "items<-as.data.frame(itemLabels(customer_transactions))\n",
        "colnames(items) <- \"Item\"\n",
        "head(items, 20)"
      ],
      "execution_count": 25,
      "outputs": [
        {
          "output_type": "display_data",
          "data": {
            "text/plain": [
              "   Item             \n",
              "1  almonds          \n",
              "2  antioxydant juice\n",
              "3  asparagus        \n",
              "4  avocado          \n",
              "5  babies food      \n",
              "6  bacon            \n",
              "7  barbecue sauce   \n",
              "8  black tea        \n",
              "9  blueberries      \n",
              "10 body spray       \n",
              "11 bramble          \n",
              "12 brownies         \n",
              "13 bug spray        \n",
              "14 burger sauce     \n",
              "15 burgers          \n",
              "16 butter           \n",
              "17 cake             \n",
              "18 candy bars       \n",
              "19 carrots          \n",
              "20 cauliflower      "
            ],
            "text/latex": "A data.frame: 20 × 1\n\\begin{tabular}{r|l}\n  & Item\\\\\n  & <fct>\\\\\n\\hline\n\t1 & almonds          \\\\\n\t2 & antioxydant juice\\\\\n\t3 & asparagus        \\\\\n\t4 & avocado          \\\\\n\t5 & babies food      \\\\\n\t6 & bacon            \\\\\n\t7 & barbecue sauce   \\\\\n\t8 & black tea        \\\\\n\t9 & blueberries      \\\\\n\t10 & body spray       \\\\\n\t11 & bramble          \\\\\n\t12 & brownies         \\\\\n\t13 & bug spray        \\\\\n\t14 & burger sauce     \\\\\n\t15 & burgers          \\\\\n\t16 & butter           \\\\\n\t17 & cake             \\\\\n\t18 & candy bars       \\\\\n\t19 & carrots          \\\\\n\t20 & cauliflower      \\\\\n\\end{tabular}\n",
            "text/markdown": "\nA data.frame: 20 × 1\n\n| <!--/--> | Item &lt;fct&gt; |\n|---|---|\n| 1 | almonds           |\n| 2 | antioxydant juice |\n| 3 | asparagus         |\n| 4 | avocado           |\n| 5 | babies food       |\n| 6 | bacon             |\n| 7 | barbecue sauce    |\n| 8 | black tea         |\n| 9 | blueberries       |\n| 10 | body spray        |\n| 11 | bramble           |\n| 12 | brownies          |\n| 13 | bug spray         |\n| 14 | burger sauce      |\n| 15 | burgers           |\n| 16 | butter            |\n| 17 | cake              |\n| 18 | candy bars        |\n| 19 | carrots           |\n| 20 | cauliflower       |\n\n",
            "text/html": [
              "<table>\n",
              "<caption>A data.frame: 20 × 1</caption>\n",
              "<thead>\n",
              "\t<tr><th></th><th scope=col>Item</th></tr>\n",
              "\t<tr><th></th><th scope=col>&lt;fct&gt;</th></tr>\n",
              "</thead>\n",
              "<tbody>\n",
              "\t<tr><th scope=row>1</th><td>almonds          </td></tr>\n",
              "\t<tr><th scope=row>2</th><td>antioxydant juice</td></tr>\n",
              "\t<tr><th scope=row>3</th><td>asparagus        </td></tr>\n",
              "\t<tr><th scope=row>4</th><td>avocado          </td></tr>\n",
              "\t<tr><th scope=row>5</th><td>babies food      </td></tr>\n",
              "\t<tr><th scope=row>6</th><td>bacon            </td></tr>\n",
              "\t<tr><th scope=row>7</th><td>barbecue sauce   </td></tr>\n",
              "\t<tr><th scope=row>8</th><td>black tea        </td></tr>\n",
              "\t<tr><th scope=row>9</th><td>blueberries      </td></tr>\n",
              "\t<tr><th scope=row>10</th><td>body spray       </td></tr>\n",
              "\t<tr><th scope=row>11</th><td>bramble          </td></tr>\n",
              "\t<tr><th scope=row>12</th><td>brownies         </td></tr>\n",
              "\t<tr><th scope=row>13</th><td>bug spray        </td></tr>\n",
              "\t<tr><th scope=row>14</th><td>burger sauce     </td></tr>\n",
              "\t<tr><th scope=row>15</th><td>burgers          </td></tr>\n",
              "\t<tr><th scope=row>16</th><td>butter           </td></tr>\n",
              "\t<tr><th scope=row>17</th><td>cake             </td></tr>\n",
              "\t<tr><th scope=row>18</th><td>candy bars       </td></tr>\n",
              "\t<tr><th scope=row>19</th><td>carrots          </td></tr>\n",
              "\t<tr><th scope=row>20</th><td>cauliflower      </td></tr>\n",
              "</tbody>\n",
              "</table>\n"
            ]
          },
          "metadata": {
            "tags": []
          }
        }
      ]
    },
    {
      "cell_type": "code",
      "metadata": {
        "id": "MtRZhmNwl1_D",
        "colab_type": "code",
        "colab": {
          "base_uri": "https://localhost:8080/",
          "height": 442
        },
        "outputId": "173501bc-ce8b-41b0-f1d0-5080cc5ed38d"
      },
      "source": [
        "# check summary of the data\n",
        "summary(customer_transactions)"
      ],
      "execution_count": 26,
      "outputs": [
        {
          "output_type": "display_data",
          "data": {
            "text/plain": [
              "transactions as itemMatrix in sparse format with\n",
              " 7501 rows (elements/itemsets/transactions) and\n",
              " 119 columns (items) and a density of 0.03288973 \n",
              "\n",
              "most frequent items:\n",
              "mineral water          eggs     spaghetti  french fries     chocolate \n",
              "         1788          1348          1306          1282          1229 \n",
              "      (Other) \n",
              "        22405 \n",
              "\n",
              "element (itemset/transaction) length distribution:\n",
              "sizes\n",
              "   1    2    3    4    5    6    7    8    9   10   11   12   13   14   15   16 \n",
              "1754 1358 1044  816  667  493  391  324  259  139  102   67   40   22   17    4 \n",
              "  18   19   20 \n",
              "   1    2    1 \n",
              "\n",
              "   Min. 1st Qu.  Median    Mean 3rd Qu.    Max. \n",
              "  1.000   2.000   3.000   3.914   5.000  20.000 \n",
              "\n",
              "includes extended item information - examples:\n",
              "             labels\n",
              "1           almonds\n",
              "2 antioxydant juice\n",
              "3         asparagus"
            ]
          },
          "metadata": {
            "tags": []
          }
        }
      ]
    },
    {
      "cell_type": "code",
      "metadata": {
        "id": "Bgy9COdaoO8D",
        "colab_type": "code",
        "colab": {
          "base_uri": "https://localhost:8080/",
          "height": 437
        },
        "outputId": "cd62db4f-d7e1-4e0a-9e02-4bc170d9e510"
      },
      "source": [
        "par(mfrow = c(1, 2))\n",
        "\n",
        "# plot the frequency of items\n",
        "itemFrequencyPlot(customer_transactions, topN = 10,col=\"darkblue\")\n",
        "itemFrequencyPlot(customer_transactions, support = 0.1,col=\"pink\")"
      ],
      "execution_count": 27,
      "outputs": [
        {
          "output_type": "display_data",
          "data": {
            "image/png": "[encoded data removed]",
            "text/plain": [
              "plot without title"
            ]
          },
          "metadata": {
            "tags": [],
            "image/png": {
              "width": 420,
              "height": 420
            }
          }
        }
      ]
    },
    {
      "cell_type": "markdown",
      "metadata": {
        "id": "DhyiqAoJpswe",
        "colab_type": "text"
      },
      "source": [
        "## Implementing the solution"
      ]
    },
    {
      "cell_type": "code",
      "metadata": {
        "id": "vxwvRpyxpHqC",
        "colab_type": "code",
        "colab": {
          "base_uri": "https://localhost:8080/",
          "height": 391
        },
        "outputId": "ed047d5c-bbf0-49b3-a076-e238b0f6fab1"
      },
      "source": [
        "# Building a model based on association rules \n",
        "# We use Min Support as 0.001 and confidence as 0.8\n",
        "\n",
        "rules <- apriori (customer_transactions, parameter = list(supp = 0.001, conf = 0.8))\n",
        "rules"
      ],
      "execution_count": 28,
      "outputs": [
        {
          "output_type": "stream",
          "text": [
            "Apriori\n",
            "\n",
            "Parameter specification:\n",
            " confidence minval smax arem  aval originalSupport maxtime support minlen\n",
            "        0.8    0.1    1 none FALSE            TRUE       5   0.001      1\n",
            " maxlen target  ext\n",
            "     10  rules TRUE\n",
            "\n",
            "Algorithmic control:\n",
            " filter tree heap memopt load sort verbose\n",
            "    0.1 TRUE TRUE  FALSE TRUE    2    TRUE\n",
            "\n",
            "Absolute minimum support count: 7 \n",
            "\n",
            "set item appearances ...[0 item(s)] done [0.00s].\n",
            "set transactions ...[119 item(s), 7501 transaction(s)] done [0.00s].\n",
            "sorting and recoding items ... [116 item(s)] done [0.00s].\n",
            "creating transaction tree ... done [0.00s].\n",
            "checking subsets of size 1 2 3 4 5 6 done [0.01s].\n",
            "writing ... [74 rule(s)] done [0.00s].\n",
            "creating S4 object  ... done [0.00s].\n"
          ],
          "name": "stdout"
        },
        {
          "output_type": "display_data",
          "data": {
            "text/plain": [
              "set of 74 rules "
            ]
          },
          "metadata": {
            "tags": []
          }
        }
      ]
    },
    {
      "cell_type": "code",
      "metadata": {
        "id": "XX6gMkMdqbAA",
        "colab_type": "code",
        "colab": {
          "base_uri": "https://localhost:8080/",
          "height": 493
        },
        "outputId": "5e304335-1aa8-46e0-d086-b179d026c0dd"
      },
      "source": [
        "# examine model structure\n",
        "summary(rules)"
      ],
      "execution_count": 29,
      "outputs": [
        {
          "output_type": "display_data",
          "data": {
            "text/plain": [
              "set of 74 rules\n",
              "\n",
              "rule length distribution (lhs + rhs):sizes\n",
              " 3  4  5  6 \n",
              "15 42 16  1 \n",
              "\n",
              "   Min. 1st Qu.  Median    Mean 3rd Qu.    Max. \n",
              "  3.000   4.000   4.000   4.041   4.000   6.000 \n",
              "\n",
              "summary of quality measures:\n",
              "    support           confidence        coverage             lift       \n",
              " Min.   :0.001067   Min.   :0.8000   Min.   :0.001067   Min.   : 3.356  \n",
              " 1st Qu.:0.001067   1st Qu.:0.8000   1st Qu.:0.001333   1st Qu.: 3.432  \n",
              " Median :0.001133   Median :0.8333   Median :0.001333   Median : 3.795  \n",
              " Mean   :0.001256   Mean   :0.8504   Mean   :0.001479   Mean   : 4.823  \n",
              " 3rd Qu.:0.001333   3rd Qu.:0.8889   3rd Qu.:0.001600   3rd Qu.: 4.877  \n",
              " Max.   :0.002533   Max.   :1.0000   Max.   :0.002666   Max.   :12.722  \n",
              "     count       \n",
              " Min.   : 8.000  \n",
              " 1st Qu.: 8.000  \n",
              " Median : 8.500  \n",
              " Mean   : 9.419  \n",
              " 3rd Qu.:10.000  \n",
              " Max.   :19.000  \n",
              "\n",
              "mining info:\n",
              "                  data ntransactions support confidence\n",
              " customer_transactions          7501   0.001        0.8"
            ]
          },
          "metadata": {
            "tags": []
          }
        }
      ]
    },
    {
      "cell_type": "code",
      "metadata": {
        "id": "WVyVXo3Eqkh0",
        "colab_type": "code",
        "colab": {
          "base_uri": "https://localhost:8080/",
          "height": 221
        },
        "outputId": "580d6dc9-da08-4929-c487-e28468f8a091"
      },
      "source": [
        "# check model rules\n",
        "inspect(rules[1:5])"
      ],
      "execution_count": 30,
      "outputs": [
        {
          "output_type": "stream",
          "text": [
            "    lhs                             rhs             support     confidence\n",
            "[1] {frozen smoothie,spinach}    => {mineral water} 0.001066524 0.8888889 \n",
            "[2] {bacon,pancakes}             => {spaghetti}     0.001733102 0.8125000 \n",
            "[3] {nonfat milk,turkey}         => {mineral water} 0.001199840 0.8181818 \n",
            "[4] {ground beef,nonfat milk}    => {mineral water} 0.001599787 0.8571429 \n",
            "[5] {mushroom cream sauce,pasta} => {escalope}      0.002532996 0.9500000 \n",
            "    coverage    lift      count\n",
            "[1] 0.001199840  3.729058  8   \n",
            "[2] 0.002133049  4.666587 13   \n",
            "[3] 0.001466471  3.432428  9   \n",
            "[4] 0.001866418  3.595877 12   \n",
            "[5] 0.002666311 11.976387 19   \n"
          ],
          "name": "stdout"
        }
      ]
    },
    {
      "cell_type": "code",
      "metadata": {
        "id": "WyCnxJO6rfxJ",
        "colab_type": "code",
        "colab": {
          "base_uri": "https://localhost:8080/",
          "height": 221
        },
        "outputId": "3fa4e71d-e6bc-4044-963b-f5ea2efd0c0e"
      },
      "source": [
        "# order rules by confidence\n",
        "rules<-sort(rules, by=\"confidence\", decreasing=TRUE)\n",
        "inspect(rules[1:5])"
      ],
      "execution_count": 31,
      "outputs": [
        {
          "output_type": "stream",
          "text": [
            "    lhs                                          rhs             support    \n",
            "[1] {french fries,mushroom cream sauce,pasta} => {escalope}      0.001066524\n",
            "[2] {ground beef,light cream,olive oil}       => {mineral water} 0.001199840\n",
            "[3] {cake,meatballs,mineral water}            => {milk}          0.001066524\n",
            "[4] {cake,olive oil,shrimp}                   => {mineral water} 0.001199840\n",
            "[5] {mushroom cream sauce,pasta}              => {escalope}      0.002532996\n",
            "    confidence coverage    lift      count\n",
            "[1] 1.00       0.001066524 12.606723  8   \n",
            "[2] 1.00       0.001199840  4.195190  9   \n",
            "[3] 1.00       0.001066524  7.717078  8   \n",
            "[4] 1.00       0.001199840  4.195190  9   \n",
            "[5] 0.95       0.002666311 11.976387 19   \n"
          ],
          "name": "stdout"
        }
      ]
    },
    {
      "cell_type": "code",
      "metadata": {
        "id": "UVrTSSFD6uHl",
        "colab_type": "code",
        "colab": {
          "base_uri": "https://localhost:8080/",
          "height": 272
        },
        "outputId": "a0853b01-44a2-42ee-baab-33692222a70b"
      },
      "source": [
        "# order rules by support\n",
        "rules<-sort(rules, by=\"support\", decreasing=TRUE)\n",
        "inspect(rules[1:5])"
      ],
      "execution_count": 32,
      "outputs": [
        {
          "output_type": "stream",
          "text": [
            "    lhs                       rhs                 support confidence    coverage      lift count\n",
            "[1] {mushroom cream sauce,                                                                      \n",
            "     pasta}                => {escalope}      0.002532996  0.9500000 0.002666311 11.976387    19\n",
            "[2] {frozen vegetables,                                                                         \n",
            "     olive oil,                                                                                 \n",
            "     tomatoes}             => {spaghetti}     0.002133049  0.8421053 0.002532996  4.836624    16\n",
            "[3] {red wine,                                                                                  \n",
            "     soup}                 => {mineral water} 0.001866418  0.9333333 0.001999733  3.915511    14\n",
            "[4] {frozen vegetables,                                                                         \n",
            "     olive oil,                                                                                 \n",
            "     shrimp}               => {mineral water} 0.001866418  0.8235294 0.002266364  3.454862    14\n",
            "[5] {frozen vegetables,                                                                         \n",
            "     ground beef,                                                                               \n",
            "     mineral water,                                                                             \n",
            "     shrimp}               => {spaghetti}     0.001733102  0.8666667 0.001999733  4.977693    13\n"
          ],
          "name": "stdout"
        }
      ]
    },
    {
      "cell_type": "code",
      "metadata": {
        "id": "i81EkR8y5WTF",
        "colab_type": "code",
        "colab": {
          "base_uri": "https://localhost:8080/",
          "height": 391
        },
        "outputId": "adfdbf46-67af-4622-a994-bc662b35da85"
      },
      "source": [
        "# Set confidence as 0.9\n",
        "rules1 <- apriori (customer_transactions, parameter = list(supp = 0.001, conf = 0.9))\n",
        "rules1"
      ],
      "execution_count": 33,
      "outputs": [
        {
          "output_type": "stream",
          "text": [
            "Apriori\n",
            "\n",
            "Parameter specification:\n",
            " confidence minval smax arem  aval originalSupport maxtime support minlen\n",
            "        0.9    0.1    1 none FALSE            TRUE       5   0.001      1\n",
            " maxlen target  ext\n",
            "     10  rules TRUE\n",
            "\n",
            "Algorithmic control:\n",
            " filter tree heap memopt load sort verbose\n",
            "    0.1 TRUE TRUE  FALSE TRUE    2    TRUE\n",
            "\n",
            "Absolute minimum support count: 7 \n",
            "\n",
            "set item appearances ...[0 item(s)] done [0.00s].\n",
            "set transactions ...[119 item(s), 7501 transaction(s)] done [0.00s].\n",
            "sorting and recoding items ... [116 item(s)] done [0.00s].\n",
            "creating transaction tree ... done [0.00s].\n",
            "checking subsets of size 1 2 3 4 5 6 done [0.01s].\n",
            "writing ... [11 rule(s)] done [0.00s].\n",
            "creating S4 object  ... done [0.00s].\n"
          ],
          "name": "stdout"
        },
        {
          "output_type": "display_data",
          "data": {
            "text/plain": [
              "set of 11 rules "
            ]
          },
          "metadata": {
            "tags": []
          }
        }
      ]
    },
    {
      "cell_type": "code",
      "metadata": {
        "id": "Xhz2OCFF5lOh",
        "colab_type": "code",
        "colab": {
          "base_uri": "https://localhost:8080/",
          "height": 493
        },
        "outputId": "858cbb20-bb45-431e-f153-815a8dae6acd"
      },
      "source": [
        "# summary rules\n",
        "summary(rules1)"
      ],
      "execution_count": 34,
      "outputs": [
        {
          "output_type": "display_data",
          "data": {
            "text/plain": [
              "set of 11 rules\n",
              "\n",
              "rule length distribution (lhs + rhs):sizes\n",
              "3 4 5 \n",
              "2 7 2 \n",
              "\n",
              "   Min. 1st Qu.  Median    Mean 3rd Qu.    Max. \n",
              "      3       4       4       4       4       5 \n",
              "\n",
              "summary of quality measures:\n",
              "    support           confidence        coverage             lift       \n",
              " Min.   :0.001067   Min.   :0.9000   Min.   :0.001067   Min.   : 3.776  \n",
              " 1st Qu.:0.001200   1st Qu.:0.9091   1st Qu.:0.001200   1st Qu.: 3.865  \n",
              " Median :0.001200   Median :0.9333   Median :0.001333   Median : 4.195  \n",
              " Mean   :0.001394   Mean   :0.9464   Mean   :0.001479   Mean   : 7.086  \n",
              " 3rd Qu.:0.001333   3rd Qu.:1.0000   3rd Qu.:0.001466   3rd Qu.:10.614  \n",
              " Max.   :0.002533   Max.   :1.0000   Max.   :0.002666   Max.   :12.722  \n",
              "     count      \n",
              " Min.   : 8.00  \n",
              " 1st Qu.: 9.00  \n",
              " Median : 9.00  \n",
              " Mean   :10.45  \n",
              " 3rd Qu.:10.00  \n",
              " Max.   :19.00  \n",
              "\n",
              "mining info:\n",
              "                  data ntransactions support confidence\n",
              " customer_transactions          7501   0.001        0.9"
            ]
          },
          "metadata": {
            "tags": []
          }
        }
      ]
    },
    {
      "cell_type": "code",
      "metadata": {
        "id": "7xbcBWvq5lGq",
        "colab_type": "code",
        "colab": {
          "base_uri": "https://localhost:8080/",
          "height": 221
        },
        "outputId": "e40e5eda-537c-4dd1-c020-33f11a23158e"
      },
      "source": [
        "# check model rules\n",
        "inspect(rules1[1:5])"
      ],
      "execution_count": 35,
      "outputs": [
        {
          "output_type": "stream",
          "text": [
            "    lhs                                          rhs             support    \n",
            "[1] {mushroom cream sauce,pasta}              => {escalope}      0.002532996\n",
            "[2] {red wine,soup}                           => {mineral water} 0.001866418\n",
            "[3] {french fries,mushroom cream sauce,pasta} => {escalope}      0.001066524\n",
            "[4] {eggs,mineral water,pasta}                => {shrimp}        0.001333156\n",
            "[5] {ground beef,light cream,olive oil}       => {mineral water} 0.001199840\n",
            "    confidence coverage    lift      count\n",
            "[1] 0.9500000  0.002666311 11.976387 19   \n",
            "[2] 0.9333333  0.001999733  3.915511 14   \n",
            "[3] 1.0000000  0.001066524 12.606723  8   \n",
            "[4] 0.9090909  0.001466471 12.722185 10   \n",
            "[5] 1.0000000  0.001199840  4.195190  9   \n"
          ],
          "name": "stdout"
        }
      ]
    },
    {
      "cell_type": "code",
      "metadata": {
        "id": "uOs-_50B6RDQ",
        "colab_type": "code",
        "colab": {
          "base_uri": "https://localhost:8080/",
          "height": 221
        },
        "outputId": "7864d6df-d334-42a9-a1d6-b6c0e0317033"
      },
      "source": [
        "# sort rules by confidence interval\n",
        "rules1<-sort(rules1, by=\"confidence\", decreasing=TRUE)\n",
        "inspect(rules1[1:5])"
      ],
      "execution_count": 36,
      "outputs": [
        {
          "output_type": "stream",
          "text": [
            "    lhs                                          rhs             support    \n",
            "[1] {french fries,mushroom cream sauce,pasta} => {escalope}      0.001066524\n",
            "[2] {ground beef,light cream,olive oil}       => {mineral water} 0.001199840\n",
            "[3] {cake,meatballs,mineral water}            => {milk}          0.001066524\n",
            "[4] {cake,olive oil,shrimp}                   => {mineral water} 0.001199840\n",
            "[5] {mushroom cream sauce,pasta}              => {escalope}      0.002532996\n",
            "    confidence coverage    lift      count\n",
            "[1] 1.00       0.001066524 12.606723  8   \n",
            "[2] 1.00       0.001199840  4.195190  9   \n",
            "[3] 1.00       0.001066524  7.717078  8   \n",
            "[4] 1.00       0.001199840  4.195190  9   \n",
            "[5] 0.95       0.002666311 11.976387 19   \n"
          ],
          "name": "stdout"
        }
      ]
    },
    {
      "cell_type": "code",
      "metadata": {
        "id": "GSKC5d0567vU",
        "colab_type": "code",
        "colab": {
          "base_uri": "https://localhost:8080/",
          "height": 255
        },
        "outputId": "d284629a-1844-4dc1-a6ec-6b4e2f06269d"
      },
      "source": [
        "# order rules by support\n",
        "rules1<-sort(rules1, by=\"support\", decreasing=TRUE)\n",
        "inspect(rules1[1:5])"
      ],
      "execution_count": 37,
      "outputs": [
        {
          "output_type": "stream",
          "text": [
            "    lhs                       rhs                 support confidence    coverage      lift count\n",
            "[1] {mushroom cream sauce,                                                                      \n",
            "     pasta}                => {escalope}      0.002532996  0.9500000 0.002666311 11.976387    19\n",
            "[2] {red wine,                                                                                  \n",
            "     soup}                 => {mineral water} 0.001866418  0.9333333 0.001999733  3.915511    14\n",
            "[3] {eggs,                                                                                      \n",
            "     mineral water,                                                                             \n",
            "     pasta}                => {shrimp}        0.001333156  0.9090909 0.001466471 12.722185    10\n",
            "[4] {herb & pepper,                                                                             \n",
            "     mineral water,                                                                             \n",
            "     rice}                 => {ground beef}   0.001333156  0.9090909 0.001466471  9.252498    10\n",
            "[5] {ground beef,                                                                               \n",
            "     pancakes,                                                                                  \n",
            "     whole wheat rice}     => {mineral water} 0.001333156  0.9090909 0.001466471  3.813809    10\n"
          ],
          "name": "stdout"
        }
      ]
    }
  ]
}